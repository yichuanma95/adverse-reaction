{
 "cells": [
  {
   "cell_type": "code",
   "execution_count": 18,
   "id": "3ef6dd28",
   "metadata": {},
   "outputs": [
    {
     "data": {
      "text/plain": [
       "{'drug_product_id': '21745',\n",
       " 'drug_name': 'WARFARIN',\n",
       " 'drug_role_en': 'Drug used to treat AE',\n",
       " 'drug_role_fr': 'Mèdicament utilisè pour le traitement',\n",
       " 'route_admin_en': '',\n",
       " 'route_admin_fr': '',\n",
       " 'dose_qty': '',\n",
       " 'dose_unit_en': '',\n",
       " 'dose_unit_fr': '',\n",
       " 'frequency': '',\n",
       " 'freq_time': '',\n",
       " 'freq_time_en': '',\n",
       " 'freq_time_fr': '',\n",
       " 'freq_unit_en': '',\n",
       " 'freq_unit_fr': '',\n",
       " 'therapy_dur': '',\n",
       " 'therapy_dur_unit_en': '',\n",
       " 'therapy_dur_unit_fr': '',\n",
       " 'dosage_form_en': 'NOT SPECIFIED',\n",
       " 'dosage_form_fr': 'NON PRÉCISÉE'}"
      ]
     },
     "execution_count": 18,
     "metadata": {},
     "output_type": "execute_result"
    }
   ],
   "source": [
    "# report_drug has 22 columns\n",
    "drugcols =\\\n",
    "        ['report_drug_id', 'report_id', 'drug_product_id', 'drug_name', 'drug_role_en', 'drug_role_fr',\n",
    "         'route_admin_en', 'route_admin_fr', 'dose_qty', 'dose_unit_en', 'dose_unit_fr', 'frequency', 'freq_time',\n",
    "         'freq_time_en', 'freq_time_fr', 'freq_unit_en', 'freq_unit_fr', 'therapy_dur', 'therapy_dur_unit_en',\n",
    "         'therapy_dur_unit_fr', 'dosage_form_en', 'dosage_form_fr']\n",
    "f = open(\"cvponline_extract_20220430/report_drug.txt\")\n",
    "line = f.readline().rstrip(\"\\n\")\n",
    "data = line.split(\"$\")\n",
    "for i in range(len(data)):\n",
    "    data[i] = data[i].strip('\\\"')\n",
    "obj = {col: d for col, d in zip(drugcols, data)}\n",
    "f.close()\n",
    "del obj['report_drug_id']\n",
    "id = obj.pop('report_id')\n",
    "obj"
   ]
  },
  {
   "cell_type": "code",
   "execution_count": 19,
   "id": "a2aa9aa6",
   "metadata": {},
   "outputs": [
    {
     "data": {
      "text/plain": [
       "'160082'"
      ]
     },
     "execution_count": 19,
     "metadata": {},
     "output_type": "execute_result"
    }
   ],
   "source": [
    "id"
   ]
  },
  {
   "cell_type": "code",
   "execution_count": 12,
   "id": "cdaac832",
   "metadata": {},
   "outputs": [
    {
     "data": {
      "text/plain": [
       "['2601',\n",
       " '26',\n",
       " '',\n",
       " '',\n",
       " '',\n",
       " 'Rash',\n",
       " 'Rash',\n",
       " 'Skin and subcutaneous tissue disorders',\n",
       " 'Affections de la peau et du tissu sous-cutané',\n",
       " 'v.25.0']"
      ]
     },
     "execution_count": 12,
     "metadata": {},
     "output_type": "execute_result"
    }
   ],
   "source": [
    "# reactions has 10 columns\n",
    "f = open(\"cvponline_extract_20220430/reactions.txt\")\n",
    "line = f.readline().rstrip(\"\\n\")\n",
    "data = line.split(\"$\")\n",
    "for i in range(len(data)):\n",
    "    data[i] = data[i].strip('\\\"')\n",
    "f.close()\n",
    "data"
   ]
  },
  {
   "cell_type": "code",
   "execution_count": 13,
   "id": "4af4b741",
   "metadata": {},
   "outputs": [
    {
     "data": {
      "text/plain": [
       "10"
      ]
     },
     "execution_count": 13,
     "metadata": {},
     "output_type": "execute_result"
    }
   ],
   "source": [
    "len(data)"
   ]
  },
  {
   "cell_type": "code",
   "execution_count": 14,
   "id": "dd88a33d",
   "metadata": {},
   "outputs": [
    {
     "data": {
      "text/plain": [
       "['1',\n",
       " '000000001',\n",
       " '0',\n",
       " '05-JUN-73',\n",
       " '05-JUN-73',\n",
       " '',\n",
       " '7',\n",
       " 'Spontaneous',\n",
       " 'Déclaration spontanée',\n",
       " '2',\n",
       " 'Female',\n",
       " 'Féminin',\n",
       " '62',\n",
       " '62',\n",
       " 'Years',\n",
       " 'Années',\n",
       " '06',\n",
       " 'Unknown',\n",
       " 'Inconnue',\n",
       " '66',\n",
       " 'Kilogram',\n",
       " 'Kilogramme',\n",
       " '155',\n",
       " 'Centimeter',\n",
       " 'Centimètres',\n",
       " '02',\n",
       " 'Not Serious',\n",
       " 'Non grave',\n",
       " '',\n",
       " '',\n",
       " '',\n",
       " '',\n",
       " '',\n",
       " '',\n",
       " 'Physician',\n",
       " 'Physicien',\n",
       " '',\n",
       " '',\n",
       " '',\n",
       " '',\n",
       " '',\n",
       " '']"
      ]
     },
     "execution_count": 14,
     "metadata": {},
     "output_type": "execute_result"
    }
   ],
   "source": [
    "# reports has 42 columns\n",
    "f = open(\"cvponline_extract_20220430/reports.txt\")\n",
    "line = f.readline().rstrip(\"\\n\")\n",
    "data = line.split(\"$\")\n",
    "for i in range(len(data)):\n",
    "    data[i] = data[i].strip('\\\"')\n",
    "f.close()\n",
    "data"
   ]
  },
  {
   "cell_type": "code",
   "execution_count": 15,
   "id": "11122bd4",
   "metadata": {},
   "outputs": [
    {
     "data": {
      "text/plain": [
       "42"
      ]
     },
     "execution_count": 15,
     "metadata": {},
     "output_type": "execute_result"
    }
   ],
   "source": [
    "len(data)"
   ]
  }
 ],
 "metadata": {
  "kernelspec": {
   "display_name": "Python 3",
   "language": "python",
   "name": "python3"
  },
  "language_info": {
   "codemirror_mode": {
    "name": "ipython",
    "version": 3
   },
   "file_extension": ".py",
   "mimetype": "text/x-python",
   "name": "python",
   "nbconvert_exporter": "python",
   "pygments_lexer": "ipython3",
   "version": "3.8.8"
  }
 },
 "nbformat": 4,
 "nbformat_minor": 5
}
